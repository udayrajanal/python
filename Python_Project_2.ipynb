{
 "cells": [
  {
   "cell_type": "code",
   "execution_count": 6,
   "id": "2da876a9-1c1e-4f6b-9646-4c3630944d64",
   "metadata": {},
   "outputs": [
    {
     "name": "stdout",
     "output_type": "stream",
     "text": [
      "Clue: The secret word has 9 letters.\n",
      "Welcome to the Word Guessing Game!\n",
      "Try to guess the secret word. You have 5 attempts.\n"
     ]
    },
    {
     "name": "stdin",
     "output_type": "stream",
     "text": [
      "Enter your guess:  programs\n"
     ]
    },
    {
     "name": "stdout",
     "output_type": "stream",
     "text": [
      "Incorrect guess. Try again.\n",
      "Attempts remaining: 4\n"
     ]
    },
    {
     "name": "stdin",
     "output_type": "stream",
     "text": [
      "Enter your guess:  development\n"
     ]
    },
    {
     "name": "stdout",
     "output_type": "stream",
     "text": [
      "Incorrect guess. Try again.\n",
      "Attempts remaining: 3\n"
     ]
    },
    {
     "name": "stdin",
     "output_type": "stream",
     "text": [
      "Enter your guess:  engineer\n"
     ]
    },
    {
     "name": "stdout",
     "output_type": "stream",
     "text": [
      "Incorrect guess. Try again.\n",
      "Attempts remaining: 2\n"
     ]
    },
    {
     "name": "stdin",
     "output_type": "stream",
     "text": [
      "Enter your guess:  algorithm\n"
     ]
    },
    {
     "name": "stdout",
     "output_type": "stream",
     "text": [
      "Congratulations! You've guessed the word 'algorithm' in 4 tries.\n"
     ]
    }
   ],
   "source": [
    "import random\n",
    "words_list = [\"python\", \"development\", \"code\", \"program\", \"algorithm\", \"engineer\"]\n",
    "secret_word = random.choice(words_list)\n",
    "print(f\"Clue: The secret word has {len(secret_word)} letters.\")\n",
    "tries = 0\n",
    "max_guesses = 5\n",
    "guessed = False\n",
    "print(\"Welcome to the Word Guessing Game!\")\n",
    "print(\"Try to guess the secret word. You have 5 attempts.\")\n",
    "while tries < max_guesses and not guessed:\n",
    "    guess = input(\"Enter your guess: \").lower()\n",
    "    tries += 1\n",
    "    if guess == secret_word:\n",
    "        guessed = True\n",
    "        print(f\"Congratulations! You've guessed the word '{secret_word}' in {tries} tries.\")\n",
    "    else:\n",
    "        print(\"Incorrect guess. Try again.\")\n",
    "        print(f\"Attempts remaining: {max_guesses - tries}\")\n",
    "if not guessed:\n",
    "    print(f\"Sorry, you've used all your attempts. The secret word was '{secret_word}'.\")\n"
   ]
  },
  {
   "cell_type": "code",
   "execution_count": 8,
   "id": "ff7e3571-8d40-4a73-a596-f9999aeb1937",
   "metadata": {},
   "outputs": [
    {
     "name": "stdout",
     "output_type": "stream",
     "text": [
      "1. Play Riddle Puzzle\n",
      "2. Play Arithmetic Puzzle\n",
      "3. Play General Knowledge Quiz Game\n",
      "4. Play Rock-paper-Scissors with Computer\n",
      "5. Play Word-Guessing Game\n"
     ]
    },
    {
     "name": "stdin",
     "output_type": "stream",
     "text": [
      "Enter an option (1-5):  1\n"
     ]
    },
    {
     "name": "stdout",
     "output_type": "stream",
     "text": [
      "\n",
      "Question: What has to be broken before you can use it?\n"
     ]
    },
    {
     "name": "stdin",
     "output_type": "stream",
     "text": [
      "Enter the answer:  egg\n"
     ]
    },
    {
     "name": "stdout",
     "output_type": "stream",
     "text": [
      "Your answer is correct!\n",
      "\n",
      "Question: I’m tall when I’m young, and I’m short when I’m old. What am I?\n"
     ]
    },
    {
     "name": "stdin",
     "output_type": "stream",
     "text": [
      "Enter the answer:  candel\n"
     ]
    },
    {
     "name": "stdout",
     "output_type": "stream",
     "text": [
      "Incorrect. The correct answer is: candle\n",
      "\n",
      "Question: What month of the year has 28 days?\n"
     ]
    },
    {
     "name": "stdin",
     "output_type": "stream",
     "text": [
      "Enter the answer:  all of them\n"
     ]
    },
    {
     "name": "stdout",
     "output_type": "stream",
     "text": [
      "Your answer is correct!\n",
      "\n",
      "Question: What is full of holes but still holds water?\n"
     ]
    },
    {
     "name": "stdin",
     "output_type": "stream",
     "text": [
      "Enter the answer:  sponge\n"
     ]
    },
    {
     "name": "stdout",
     "output_type": "stream",
     "text": [
      "Your answer is correct!\n",
      "\n",
      "Question: What question can you never answer yes to\n"
     ]
    },
    {
     "name": "stdin",
     "output_type": "stream",
     "text": [
      "Enter the answer:  dont know\n"
     ]
    },
    {
     "name": "stdout",
     "output_type": "stream",
     "text": [
      "Incorrect. The correct answer is: are you asleep yet?\n",
      "You answered 3/5 riddles correctly.\n"
     ]
    },
    {
     "name": "stdin",
     "output_type": "stream",
     "text": [
      "Do you want to play the game(yes/no) no\n"
     ]
    },
    {
     "name": "stdout",
     "output_type": "stream",
     "text": [
      "Thank you for playing game\n"
     ]
    }
   ],
   "source": [
    "import random\n",
    "\n",
    "class Task_2:\n",
    "    def riddle(self):\n",
    "        self.riddles = {\n",
    "            \"What has to be broken before you can use it?\": \"egg\",\n",
    "            \"I’m tall when I’m young, and I’m short when I’m old. What am I?\": \"candle\",\n",
    "            \"What month of the year has 28 days?\": \"all of them\",\n",
    "            \"What is full of holes but still holds water?\": \"sponge\",\n",
    "            \"What question can you never answer yes to\": \"are you asleep yet?\"\n",
    "        }\n",
    "        count = 0\n",
    "        for question, answer in self.riddles.items():\n",
    "            print(\"\\nQuestion:\", question)\n",
    "            user_answer = input(\"Enter the answer: \").strip().lower()\n",
    "            if user_answer == answer:\n",
    "                print(\"Your answer is correct!\")\n",
    "                count += 1\n",
    "            else:\n",
    "                print(f\"Incorrect. The correct answer is: {answer}\")\n",
    "        print(f\"You answered {count}/{len(self.riddles)} riddles correctly.\")\n",
    "\n",
    "    def arithmetic_puzzle(self):\n",
    "        count = 0\n",
    "        total_questions = 5\n",
    "        for i in range(total_questions):\n",
    "            operator = random.choice([\"+\", \"-\", \"*\", \"/\"])\n",
    "            a = random.randint(1, 20)\n",
    "            b = random.randint(1, 20)\n",
    "            if operator == \"+\":\n",
    "                answer = a + b\n",
    "                print(f\"What is {a} + {b}?\")\n",
    "            elif operator == \"-\":\n",
    "                answer = a - b\n",
    "                print(f\"What is {a} - {b}?\")\n",
    "            elif operator == \"*\":\n",
    "                answer = a * b\n",
    "                print(f\"What is {a} * {b}?\")\n",
    "            elif operator == \"/\":\n",
    "                if b != 0:\n",
    "                    answer = round(a / b, 2)\n",
    "                    print(f\"What is {a} / {b}? (Answer up to 2 decimal points)\")\n",
    "                else:\n",
    "                    continue\n",
    "            user_answer = input(\"Enter your answer: \")\n",
    "            try:\n",
    "                if round(float(user_answer), 2) == answer:\n",
    "                    print(\"Correct!\")\n",
    "                    count += 1\n",
    "                else:\n",
    "                    print(f\"Incorrect. The correct answer is: {answer}\")\n",
    "            except ValueError:\n",
    "                print(\"Please enter a valid number.\")\n",
    "        print(f\"You got {count}/{total_questions} correct.\")\n",
    "\n",
    "    def General_knowledge_quiz_game(self):\n",
    "        self.quiz_data = {\n",
    "            \"Science\": {\n",
    "                \"Which gas do plants absorb during photosynthesis?\": \"carbon dioxide\",\n",
    "                \"What is the full name of WWW?\": \"world wide web\",\n",
    "                \"How many bones are there in the adult human body?\": \"206\"\n",
    "            },\n",
    "            \"Mathematics\": {\n",
    "                \"What is the only even prime number?\": \"2\",\n",
    "                \"What is the sum of the first 5 natural numbers?\": \"15\",\n",
    "                \"What is the name of the mathematical symbol π?\": \"pi\"\n",
    "            },\n",
    "            \"Geography\": {\n",
    "                \"What is the tallest mountain on Earth?\": \"mount everest\",\n",
    "                \"What is the capital of France?\": \"paris\",\n",
    "                \"What planet is known as the 'Red Planet'?\": \"mars\"\n",
    "            },\n",
    "            \"Others\": {\n",
    "                \"Which country won the most recent FIFA World Cup (2022)?\": \"argentina\",\n",
    "                \"Who invented the light bulb?\": \"thomas edison\",\n",
    "                \"In what year did India declare itself a democratic republic state with the adoption of the constitution?\": \"1950\"\n",
    "            }\n",
    "        }\n",
    "        category = input(\"Enter a category (Science, Mathematics, Geography, Others): \").capitalize().strip()\n",
    "        if category in self.quiz_data:\n",
    "            correct = 0\n",
    "            questions = self.quiz_data[category]\n",
    "            for question, answer in questions.items():\n",
    "                user_answer = input(f\"{question} \").strip().lower()\n",
    "                if user_answer == answer:\n",
    "                    print(\"Correct!\")\n",
    "                    correct += 1\n",
    "                else:\n",
    "                    print(f\"Incorrect! The correct answer is {answer}.\")\n",
    "            print(f\"You answered {correct}/{len(questions)} questions correctly.\")\n",
    "        else:\n",
    "            print(\"Invalid category.\")\n",
    "\n",
    "    def computer_choice(self):\n",
    "        option = [\"rock\", \"paper\", \"scissor\"]\n",
    "        print(\"Welcome to Rock-Paper-Scissors\")\n",
    "        while True:\n",
    "            computer_choice = random.choice(option)\n",
    "            print(\"Options: rock, paper, scissor\")\n",
    "            choice = input(\"Enter your choice: \").lower()\n",
    "            if choice == computer_choice:\n",
    "                print(f\"It's a tie! Both chose {choice}.\")\n",
    "            elif (choice == 'rock' and computer_choice == 'scissor') or \\\n",
    "                 (choice == 'paper' and computer_choice == 'rock') or \\\n",
    "                 (choice == 'scissor' and computer_choice == 'paper'):\n",
    "                print(f\"You win! {choice} beats {computer_choice}.\")\n",
    "            elif choice in option:\n",
    "                print(f\"You lose! {computer_choice} beats {choice}.\")\n",
    "            else:\n",
    "                print(\"Invalid choice, try again.\")\n",
    "                break\n",
    "\n",
    "    def word_guessing_game(self):\n",
    "        word_list = [\"python\", \"development\", \"code\", \"program\", \"algorithm\", \"engineer\"]\n",
    "        secret_word = random.choice(word_list)\n",
    "        attempts = 0\n",
    "        max_attempts = 5\n",
    "        guessed = False\n",
    "        print(\"Welcome to the Word Guessing Game!\")\n",
    "        print(f\"The secret word has {len(secret_word)} letters.\")\n",
    "        while attempts < max_attempts and not guessed:\n",
    "            guess = input(\"Enter your guess: \").lower()\n",
    "            attempts += 1\n",
    "            if guess == secret_word:\n",
    "                guessed = True\n",
    "                print(f\"Congratulations! You've guessed the word '{secret_word}' in {attempts} attempts.\")\n",
    "            else:\n",
    "                print(\"Incorrect guess. Try again.\")\n",
    "                print(f\"Attempts remaining: {max_attempts - attempts}\")\n",
    "        if not guessed:\n",
    "            print(f\"Sorry, you've used all your attempts. The word was '{secret_word}'.\")\n",
    "\n",
    "    def menu(self):\n",
    "        print(\"1. Play Riddle Puzzle\")\n",
    "        print(\"2. Play Arithmetic Puzzle\")\n",
    "        print(\"3. Play General Knowledge Quiz Game\")\n",
    "        print(\"4. Play Rock-paper-Scissors with Computer\")\n",
    "        print(\"5. Play Word-Guessing Game\")\n",
    "        option = input(\"Enter an option (1-5): \").strip()\n",
    "        if option == \"1\":\n",
    "            self.riddle()\n",
    "        elif option == \"2\":\n",
    "            self.arithmetic_puzzle()\n",
    "        elif option == \"3\":\n",
    "            self.General_knowledge_quiz_game()\n",
    "        elif option == \"4\":\n",
    "            self.computer_choice()\n",
    "        elif option == \"5\":\n",
    "            self.word_guessing_game()\n",
    "        else:\n",
    "            print(\"Invalid option.\")\n",
    "    def choice(self):\n",
    "        choice=input(\"Do you want to play the game(yes/no)\").lower()\n",
    "        if choice=='yes':\n",
    "            self.menu()\n",
    "        else:\n",
    "            print(\"Thank you for playing game\")\n",
    "t = Task_2()\n",
    "t.menu()\n",
    "t.choice()"
   ]
  },
  {
   "cell_type": "code",
   "execution_count": null,
   "id": "9047b14b-474f-4bcf-9421-ca7bcda256a1",
   "metadata": {},
   "outputs": [],
   "source": []
  }
 ],
 "metadata": {
  "kernelspec": {
   "display_name": "Python 3 (ipykernel)",
   "language": "python",
   "name": "python3"
  },
  "language_info": {
   "codemirror_mode": {
    "name": "ipython",
    "version": 3
   },
   "file_extension": ".py",
   "mimetype": "text/x-python",
   "name": "python",
   "nbconvert_exporter": "python",
   "pygments_lexer": "ipython3",
   "version": "3.12.4"
  }
 },
 "nbformat": 4,
 "nbformat_minor": 5
}
