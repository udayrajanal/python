{
 "cells": [
  {
   "cell_type": "markdown",
   "id": "b0b27d62-11f0-47ce-9660-348506249d1b",
   "metadata": {},
   "source": [
    "# Task 1"
   ]
  },
  {
   "cell_type": "code",
   "execution_count": 1,
   "id": "7c1cfeda-b6aa-442b-8971-6da6a283d918",
   "metadata": {},
   "outputs": [
    {
     "name": "stdout",
     "output_type": "stream",
     "text": [
      "I am so simple that I can only point, yet I guide people all over the world\n"
     ]
    },
    {
     "name": "stdin",
     "output_type": "stream",
     "text": [
      "What is the answer?  piano\n"
     ]
    },
    {
     "name": "stdout",
     "output_type": "stream",
     "text": [
      "Incorrect. The answer is: Compass\n"
     ]
    },
    {
     "name": "stdin",
     "output_type": "stream",
     "text": [
      "Do you want to play again? (yes/no):  yes\n"
     ]
    },
    {
     "name": "stdout",
     "output_type": "stream",
     "text": [
      "I have cities but no houses, rivers but no water, and roads but no cars. What am I?\n"
     ]
    },
    {
     "name": "stdin",
     "output_type": "stream",
     "text": [
      "What is the answer?  Compass\n"
     ]
    },
    {
     "name": "stdout",
     "output_type": "stream",
     "text": [
      "Incorrect. The answer is: A map\n"
     ]
    },
    {
     "name": "stdin",
     "output_type": "stream",
     "text": [
      "Do you want to play again? (yes/no):  yes\n"
     ]
    },
    {
     "name": "stdout",
     "output_type": "stream",
     "text": [
      "I am so simple that I can only point, yet I guide people all over the world\n"
     ]
    },
    {
     "name": "stdin",
     "output_type": "stream",
     "text": [
      "What is the answer?  A deck of cards\n"
     ]
    },
    {
     "name": "stdout",
     "output_type": "stream",
     "text": [
      "Incorrect. The answer is: Compass\n"
     ]
    },
    {
     "name": "stdin",
     "output_type": "stream",
     "text": [
      "Do you want to play again? (yes/no):  no\n"
     ]
    },
    {
     "name": "stdout",
     "output_type": "stream",
     "text": [
      "Your score: 0.0 %\n"
     ]
    }
   ],
   "source": [
    "import random\n",
    "\n",
    "riddles = {\n",
    "    \"What has keys but cannot open locks?\": \"A piano\",\n",
    "    \"I have cities but no houses, rivers but no water, and roads but no cars. What am I?\": \"A map\",\n",
    "    \"How many months of the year have 28 days?\":\"All Months\",\n",
    "    \"I am so simple that I can only point, yet I guide people all over the world\":\"Compass\",\n",
    "    \"What has thirteen hearts, but no other organs?\":\"A deck of cards\"\n",
    "}\n",
    "\n",
    "score = 0\n",
    "total_riddles = len(riddles)\n",
    "\n",
    "while True:\n",
    "    riddle, answer = random.choice(list(riddles.items()))\n",
    "\n",
    "    print(riddle)\n",
    "    user_answer = input(\"What is the answer? \")\n",
    "\n",
    "    if user_answer.lower() == answer.lower():\n",
    "        print(\"Correct!\")\n",
    "        score += 1\n",
    "    else:\n",
    "        print(\"Incorrect. The answer is:\", answer)\n",
    "\n",
    "    play_again = input(\"Do you want to play again? (yes/no): \")\n",
    "    if play_again.lower() != \"yes\":\n",
    "        break\n",
    "\n",
    "print(\"Your score:\", score / total_riddles * 100, \"%\")"
   ]
  },
  {
   "cell_type": "markdown",
   "id": "daa8860f-5271-4c3e-8a34-ac955c542f9a",
   "metadata": {},
   "source": [
    "# Task 2"
   ]
  },
  {
   "cell_type": "code",
   "execution_count": 3,
   "id": "a34dd767-78a0-47cd-82ba-4195ddfc5bc3",
   "metadata": {},
   "outputs": [
    {
     "name": "stdin",
     "output_type": "stream",
     "text": [
      "Enter a number between 1 and 20:  23\n",
      "Enter another number between 1 and 20:  23\n",
      "Choose an operator (+, -, *, /):  +\n"
     ]
    },
    {
     "name": "stdout",
     "output_type": "stream",
     "text": [
      "Please enter numbers between 1 and 20.\n"
     ]
    },
    {
     "name": "stdin",
     "output_type": "stream",
     "text": [
      "Enter a number between 1 and 20:  11\n",
      "Enter another number between 1 and 20:  13\n",
      "Choose an operator (+, -, *, /):  -\n"
     ]
    },
    {
     "name": "stdout",
     "output_type": "stream",
     "text": [
      "11 - 13\n"
     ]
    },
    {
     "name": "stdin",
     "output_type": "stream",
     "text": [
      "What is the answer?  -2\n"
     ]
    },
    {
     "name": "stdout",
     "output_type": "stream",
     "text": [
      "Correct!\n"
     ]
    },
    {
     "name": "stdin",
     "output_type": "stream",
     "text": [
      "Do you want to play again? (yes/no):  yes\n",
      "Enter a number between 1 and 20:  10\n",
      "Enter another number between 1 and 20:  15\n",
      "Choose an operator (+, -, *, /):  *\n"
     ]
    },
    {
     "name": "stdout",
     "output_type": "stream",
     "text": [
      "10 * 15\n"
     ]
    },
    {
     "name": "stdin",
     "output_type": "stream",
     "text": [
      "What is the answer?  150\n"
     ]
    },
    {
     "name": "stdout",
     "output_type": "stream",
     "text": [
      "Correct!\n"
     ]
    },
    {
     "name": "stdin",
     "output_type": "stream",
     "text": [
      "Do you want to play again? (yes/no):  no\n"
     ]
    }
   ],
   "source": [
    "import random\n",
    "\n",
    "operators = [\"+\", \"-\", \"*\", \"/\"]\n",
    "\n",
    "while True:\n",
    "    num1 = int(input(\"Enter a number between 1 and 20: \"))\n",
    "    num2 = int(input(\"Enter another number between 1 and 20: \"))\n",
    "    operator = input(\"Choose an operator (+, -, *, /): \")\n",
    "\n",
    "    if num1 < 1 or num1 > 20 or num2 < 1 or num2 > 20:\n",
    "        print(\"Please enter numbers between 1 and 20.\")\n",
    "        continue\n",
    "\n",
    "    if operator not in operators:\n",
    "        print(\"Invalid operator. Please choose +, -, *, or /.\")\n",
    "        continue\n",
    "\n",
    "    equation = f\"{num1} {operator} {num2}\"\n",
    "    print(equation)\n",
    "    user_answer = input(\"What is the answer? \")\n",
    "\n",
    "    try:\n",
    "        correct_answer = eval(equation)\n",
    "        if int(user_answer) == correct_answer:\n",
    "            print(\"Correct!\")\n",
    "        else:\n",
    "            print(\"Incorrect. The correct answer is:\", correct_answer)\n",
    "    except ZeroDivisionError:\n",
    "        print(\"Error: Division by zero is not allowed.\")\n",
    "\n",
    "    play_again = input(\"Do you want to play again? (yes/no): \")\n",
    "    if play_again.lower() != \"yes\":\n",
    "        break"
   ]
  },
  {
   "cell_type": "markdown",
   "id": "13c202ba-2972-4b2b-9dec-d77acf68346e",
   "metadata": {},
   "source": [
    "# Task 3"
   ]
  },
  {
   "cell_type": "code",
   "execution_count": 5,
   "id": "e25f0544-4f47-4f41-afaa-ba964eebfd07",
   "metadata": {},
   "outputs": [
    {
     "name": "stdout",
     "output_type": "stream",
     "text": [
      "Welcome to the General Knowledge Quiz!\n",
      "Select a category:\n",
      "1. Science\n",
      "2. Mathematics\n",
      "3. Geography\n",
      "4. Other\n"
     ]
    },
    {
     "name": "stdin",
     "output_type": "stream",
     "text": [
      "Enter the number of your chosen category:  1\n"
     ]
    },
    {
     "name": "stdout",
     "output_type": "stream",
     "text": [
      "Which gas do plants absorb during photosynthesis?\n"
     ]
    },
    {
     "name": "stdin",
     "output_type": "stream",
     "text": [
      "What is the answer?  carbon dioxide\n"
     ]
    },
    {
     "name": "stdout",
     "output_type": "stream",
     "text": [
      "Correct!\n",
      "What is the full name of the WWW?\n"
     ]
    },
    {
     "name": "stdin",
     "output_type": "stream",
     "text": [
      "What is the answer?  world wide web\n"
     ]
    },
    {
     "name": "stdout",
     "output_type": "stream",
     "text": [
      "Correct!\n",
      "How many bones are there in the adult human body?\n"
     ]
    },
    {
     "name": "stdin",
     "output_type": "stream",
     "text": [
      "What is the answer?  206\n"
     ]
    },
    {
     "name": "stdout",
     "output_type": "stream",
     "text": [
      "Correct!\n",
      "Your score for Science: 3 out of 3\n"
     ]
    },
    {
     "name": "stdin",
     "output_type": "stream",
     "text": [
      "Do you want to play another category? (yes/no):  yes\n"
     ]
    },
    {
     "name": "stdout",
     "output_type": "stream",
     "text": [
      "Select a category:\n",
      "1. Science\n",
      "2. Mathematics\n",
      "3. Geography\n",
      "4. Other\n"
     ]
    },
    {
     "name": "stdin",
     "output_type": "stream",
     "text": [
      "Enter the number of your chosen category:  2\n"
     ]
    },
    {
     "name": "stdout",
     "output_type": "stream",
     "text": [
      "What is the only even prime number?\n"
     ]
    },
    {
     "name": "stdin",
     "output_type": "stream",
     "text": [
      "What is the answer?  2\n"
     ]
    },
    {
     "name": "stdout",
     "output_type": "stream",
     "text": [
      "Correct!\n",
      "What is the sum of the first 5 natural numbers?\n"
     ]
    },
    {
     "name": "stdin",
     "output_type": "stream",
     "text": [
      "What is the answer?  15\n"
     ]
    },
    {
     "name": "stdout",
     "output_type": "stream",
     "text": [
      "Correct!\n",
      "What is the name of the mathematical symbol π?\n"
     ]
    },
    {
     "name": "stdin",
     "output_type": "stream",
     "text": [
      "What is the answer?  3.14\n"
     ]
    },
    {
     "name": "stdout",
     "output_type": "stream",
     "text": [
      "Incorrect. The correct answer is: Pi\n",
      "Your score for Mathematics: 2 out of 3\n"
     ]
    },
    {
     "name": "stdin",
     "output_type": "stream",
     "text": [
      "Do you want to play another category? (yes/no):  no\n"
     ]
    },
    {
     "name": "stdout",
     "output_type": "stream",
     "text": [
      "Your final score: 83.33333333333334 %\n",
      "Thank you for playing!\n"
     ]
    }
   ],
   "source": [
    "import random\n",
    "\n",
    "# Define question sets for each category\n",
    "science_questions = [\n",
    "    {\"question\": \"Which gas do plants absorb during photosynthesis?\", \"answer\": \"Carbon dioxide\"},\n",
    "    {\"question\": \"What is the full name of the WWW?\", \"answer\": \"World Wide Web\"},\n",
    "    {\"question\": \"How many bones are there in the adult human body?\", \"answer\": \"206\"}\n",
    "]\n",
    "\n",
    "math_questions = [\n",
    "    {\"question\": \"What is the only even prime number?\", \"answer\": \"2\"},\n",
    "    {\"question\": \"What is the sum of the first 5 natural numbers?\", \"answer\": \"15\"},\n",
    "    {\"question\": \"What is the name of the mathematical symbol π?\", \"answer\": \"Pi\"}\n",
    "]\n",
    "\n",
    "geography_questions = [\n",
    "    {\"question\": \"What is the tallest mountain on Earth?\", \"answer\": \"Mount Everest\"},\n",
    "    {\"question\": \"What is the capital of France?\", \"answer\": \"Paris\"},\n",
    "    {\"question\": \"Which planet is known as the 'Red Planet'?\", \"answer\": \"Mars\"}\n",
    "]\n",
    "\n",
    "other_questions = [\n",
    "    {\"question\": \"Which country won the most recent FIFA World Cup (as of 2022)?\", \"answer\": \"Argentina\"},\n",
    "    {\"question\": \"Who invented the light bulb?\", \"answer\": \"Thomas Edison\"},\n",
    "    {\"question\": \"In what year did India declare itself a Democratic and Republic state with the adoption of the Constitution?\", \"answer\": \"1950\"}\n",
    "]\n",
    "\n",
    "# Map categories to their respective questions\n",
    "categories = {\n",
    "    \"Science\": science_questions,\n",
    "    \"Mathematics\": math_questions,\n",
    "    \"Geography\": geography_questions,\n",
    "    \"Other\": other_questions\n",
    "}\n",
    "\n",
    "def ask_category():\n",
    "    print(\"Select a category:\")\n",
    "    for i, category in enumerate(categories.keys()):\n",
    "        print(f\"{i+1}. {category}\")\n",
    "\n",
    "    category_choice = int(input(\"Enter the number of your chosen category: \"))\n",
    "\n",
    "    if category_choice < 1 or category_choice > len(categories):\n",
    "        print(\"Invalid category choice. Please enter a number between 1 and\", len(categories))\n",
    "        return None\n",
    "\n",
    "    return list(categories.keys())[category_choice - 1]\n",
    "\n",
    "def ask_question(question):\n",
    "    print(question[\"question\"])\n",
    "    user_answer = input(\"What is the answer? \")\n",
    "    return user_answer\n",
    "\n",
    "def check_answer(user_answer, correct_answer):\n",
    "    if user_answer.lower() == correct_answer.lower():\n",
    "        print(\"Correct!\")\n",
    "        return True\n",
    "    else:\n",
    "        print(\"Incorrect. The correct answer is:\", correct_answer)\n",
    "        return False\n",
    "\n",
    "def exec_questions(questions):\n",
    "    score = 0\n",
    "    total_questions = 0\n",
    "\n",
    "    for question in questions:\n",
    "        user_answer = ask_question(question)\n",
    "        if check_answer(user_answer, question[\"answer\"]):\n",
    "            score += 1\n",
    "        total_questions += 1\n",
    "\n",
    "    return score, total_questions\n",
    "\n",
    "def play_game():\n",
    "    total_score = 0\n",
    "    total_questions = 0\n",
    "\n",
    "    while True:\n",
    "        selected_category = ask_category()\n",
    "        if selected_category is None:\n",
    "            continue\n",
    "\n",
    "        questions = categories[selected_category]\n",
    "        score, num_questions = exec_questions(questions)\n",
    "\n",
    "        total_score += score\n",
    "        total_questions += num_questions\n",
    "\n",
    "        print(f\"Your score for {selected_category}: {score} out of {num_questions}\")\n",
    "\n",
    "        play_again = input(\"Do you want to play another category? (yes/no): \")\n",
    "        if play_again.lower() != \"yes\":\n",
    "            break\n",
    "\n",
    "    if total_questions > 0:\n",
    "        score_percentage = (total_score / total_questions) * 100\n",
    "        print(\"Your final score:\", score_percentage, \"%\")\n",
    "    else:\n",
    "        print(\"You didn't answer any questions.\")\n",
    "\n",
    "if __name__ == \"__main__\":\n",
    "    print(\"Welcome to the General Knowledge Quiz!\")\n",
    "    play_game()\n",
    "    print(\"Thank you for playing!\")\n"
   ]
  },
  {
   "cell_type": "markdown",
   "id": "21974ddd-2c9c-41e2-9973-17c06fb7cef9",
   "metadata": {},
   "source": [
    "# Task 4"
   ]
  },
  {
   "cell_type": "code",
   "execution_count": 7,
   "id": "32c3c1ac-1c10-4e3d-94f8-41255d4543d0",
   "metadata": {},
   "outputs": [
    {
     "name": "stdin",
     "output_type": "stream",
     "text": [
      "Enter your choice (rock, paper, or scissors):  rock\n"
     ]
    },
    {
     "name": "stdout",
     "output_type": "stream",
     "text": [
      "Computer chose: paper\n",
      "Computer wins!\n"
     ]
    },
    {
     "name": "stdin",
     "output_type": "stream",
     "text": [
      "Do you want to play again? (yes/no):  yes\n",
      "Enter your choice (rock, paper, or scissors):  paper\n"
     ]
    },
    {
     "name": "stdout",
     "output_type": "stream",
     "text": [
      "Computer chose: rock\n",
      "You win!\n"
     ]
    },
    {
     "name": "stdin",
     "output_type": "stream",
     "text": [
      "Do you want to play again? (yes/no):  no\n"
     ]
    }
   ],
   "source": [
    "import random\n",
    "\n",
    "choices = [\"rock\", \"paper\", \"scissors\"]\n",
    "\n",
    "while True:\n",
    "    computer_choice = random.choice(choices)\n",
    "    user_choice = input(\"Enter your choice (rock, paper, or scissors): \").lower()\n",
    "\n",
    "    if user_choice not in choices:\n",
    "        print(\"Invalid choice. Please enter rock, paper, or scissors.\")\n",
    "        continue\n",
    "\n",
    "    print(\"Computer chose:\", computer_choice)\n",
    "\n",
    "    if user_choice == computer_choice:\n",
    "        print(\"It's a tie!\")\n",
    "    elif (user_choice == \"rock\" and computer_choice == \"scissors\") or \\\n",
    "         (user_choice == \"paper\" and computer_choice == \"rock\") or \\\n",
    "         (user_choice == \"scissors\" and computer_choice == \"paper\"):\n",
    "        print(\"You win!\")\n",
    "    else:\n",
    "        print(\"Computer wins!\")\n",
    "\n",
    "    play_again = input(\"Do you want to play again? (yes/no): \")\n",
    "    if play_again.lower() != \"yes\":\n",
    "        break"
   ]
  },
  {
   "cell_type": "code",
   "execution_count": 9,
   "id": "94313ddd-b50f-4acf-90ca-00359de5d9f9",
   "metadata": {},
   "outputs": [
    {
     "name": "stdin",
     "output_type": "stream",
     "text": [
      "Hello user1! Enter your name:  sri\n",
      "Hello user2! Enter your name:  sai\n",
      "Hello sri! Enter a choice (rock, paper, scissors):  paper\n",
      "Hello sai! Enter a choice (rock, paper, scissors):  paper\n"
     ]
    },
    {
     "name": "stdout",
     "output_type": "stream",
     "text": [
      "It's a tie!\n"
     ]
    },
    {
     "name": "stdin",
     "output_type": "stream",
     "text": [
      "Do you want to play again? (yes/no):  no\n"
     ]
    }
   ],
   "source": [
    "choices = [\"rock\", \"paper\", \"scissors\"]\n",
    "\n",
    "def get_player_name(player_num):\n",
    "    name = input(f\"Hello user{player_num}! Enter your name: \")\n",
    "    return name\n",
    "\n",
    "def get_player_choice(player_name):\n",
    "    return input(f\"Hello {player_name}! Enter a choice (rock, paper, scissors): \").lower()\n",
    "\n",
    "def determine_winner(player1_choice, player2_choice):\n",
    "    if player1_choice == player2_choice:\n",
    "        return \"It's a tie!\"\n",
    "    elif (player1_choice == \"rock\" and player2_choice == \"scissors\") or \\\n",
    "         (player1_choice == \"paper\" and player2_choice == \"rock\") or \\\n",
    "         (player1_choice == \"scissors\" and player2_choice == \"paper\"):\n",
    "        return f\"{player1_name} wins!\"\n",
    "    else:\n",
    "        return f\"{player2_name} wins!\"\n",
    "\n",
    "player1_name = get_player_name(1)\n",
    "player2_name = get_player_name(2)\n",
    "\n",
    "while True:\n",
    "    player1_choice = get_player_choice(player1_name)\n",
    "    player2_choice = get_player_choice(player2_name)\n",
    "\n",
    "    if player1_choice not in choices or player2_choice not in choices:\n",
    "        print(\"Invalid choice. Please enter rock, paper, or scissors.\")\n",
    "        continue\n",
    "\n",
    "    winner = determine_winner(player1_choice, player2_choice)\n",
    "    print(winner)\n",
    "\n",
    "    play_again = input(\"Do you want to play again? (yes/no): \")\n",
    "    if play_again.lower() != \"yes\":\n",
    "        break"
   ]
  },
  {
   "cell_type": "code",
   "execution_count": null,
   "id": "4b281a3f-4789-4463-847c-c925e5f0cfed",
   "metadata": {},
   "outputs": [],
   "source": []
  }
 ],
 "metadata": {
  "kernelspec": {
   "display_name": "Python 3 (ipykernel)",
   "language": "python",
   "name": "python3"
  },
  "language_info": {
   "codemirror_mode": {
    "name": "ipython",
    "version": 3
   },
   "file_extension": ".py",
   "mimetype": "text/x-python",
   "name": "python",
   "nbconvert_exporter": "python",
   "pygments_lexer": "ipython3",
   "version": "3.12.4"
  }
 },
 "nbformat": 4,
 "nbformat_minor": 5
}
